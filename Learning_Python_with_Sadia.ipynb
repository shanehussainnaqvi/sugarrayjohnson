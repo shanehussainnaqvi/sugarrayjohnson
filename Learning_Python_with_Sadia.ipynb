{
  "cells": [
    {
      "cell_type": "markdown",
      "metadata": {
        "id": "view-in-github",
        "colab_type": "text"
      },
      "source": [
        "<a href=\"https://colab.research.google.com/github/shanehussainnaqvi/sugarrayjohnson/blob/master/Learning_Python_with_Sadia.ipynb\" target=\"_parent\"><img src=\"https://colab.research.google.com/assets/colab-badge.svg\" alt=\"Open In Colab\"/></a>"
      ]
    },
    {
      "cell_type": "code",
      "source": [
        "import random\n",
        "\n",
        "player = []\n",
        "score=[0,0,0]\n",
        "roll=[0,0,0]\n",
        "\n",
        "for item in range(1,4):\n",
        "  playername=input(\"Enter Player {} Name: \".format(item))\n",
        "  player.append(playername)\n",
        "\n",
        "\n",
        "print (\"\")\n",
        "print (\"Let the game Begin\")\n",
        "\n",
        "for i in range(1,3):\n",
        "  \n",
        "  print(\"\")\n",
        "  print (\"Roll {}\".format(i))\n",
        "  print(\"\")\n",
        "\n",
        "  for item in range(0,3):\n",
        "    roll[item]=random.randrange(1,7)\n",
        "    print (\"{} rolls {}\".format(player[item],roll[item]))\n",
        "    if roll[item]%2!=0:\n",
        "      score[item]=score[item]+1\n",
        "\n",
        "print(\"\")\n",
        "print (\"Scorecard\")\n",
        "print (\"---------\")\n",
        "print(\"\")\n",
        "\n",
        "\n",
        "score[0]=3\n",
        "score[1]=0\n",
        "score[2]=3\n",
        "\n",
        "for item in range(0,3):\n",
        "  print (\"{} scores {}\".format(player[item],score[item]))\n",
        "\n",
        "  \n",
        "\n",
        "# if score[0]>score[1] and score[0]>score[2]:\n",
        "#   winner=player[0]\n",
        "# if score[1]>score[0] and score[1]>score[2]:\n",
        "  # winner=player[1]\n",
        "# if score[2]>score[0] and score[2]>score[1]:\n",
        "  # winner=player[2]\n",
        "if score[0]==score[1] and score[1]==score[2]:\n",
        "  print(\"We have a tie\")\n",
        "else:\n",
        "  print (\"And the winner is.....\")\n",
        "  print (\"{}\".format(winner))\n",
        "\n",
        "print(player)"
      ],
      "metadata": {
        "colab": {
          "base_uri": "https://localhost:8080/"
        },
        "id": "t3TJXPf8rBDZ",
        "outputId": "0d77f1a1-84e6-4d24-d2e3-d8f3f73601e7"
      },
      "execution_count": 16,
      "outputs": [
        {
          "output_type": "stream",
          "name": "stdout",
          "text": [
            "Enter Player 1 Name: a\n",
            "Enter Player 2 Name: b\n",
            "Enter Player 3 Name: c\n",
            "\n",
            "Let the game Begin\n",
            "\n",
            "Roll 1\n",
            "\n",
            "a rolls 5\n",
            "b rolls 4\n",
            "c rolls 5\n",
            "\n",
            "Roll 2\n",
            "\n",
            "a rolls 4\n",
            "b rolls 6\n",
            "c rolls 1\n",
            "\n",
            "Scorecard\n",
            "---------\n",
            "\n",
            "a scores 3\n",
            "b scores 0\n",
            "c scores 3\n",
            "And the winner is.....\n",
            "b\n",
            "['a', 'b', 'c']\n"
          ]
        }
      ]
    },
    {
      "cell_type": "code",
      "source": [
        ""
      ],
      "metadata": {
        "id": "DjI56h0n0YG8"
      },
      "execution_count": null,
      "outputs": []
    }
  ],
  "metadata": {
    "colab": {
      "collapsed_sections": [],
      "name": "Learning Python with Sadia",
      "provenance": [],
      "authorship_tag": "ABX9TyPJZgVa8fkHsFfKzhQ9v6LI",
      "include_colab_link": true
    },
    "kernelspec": {
      "display_name": "Python 3",
      "name": "python3"
    },
    "language_info": {
      "name": "python"
    }
  },
  "nbformat": 4,
  "nbformat_minor": 0
}